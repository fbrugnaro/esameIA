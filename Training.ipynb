{
  "nbformat": 4,
  "nbformat_minor": 0,
  "metadata": {
    "colab": {
      "name": "Training.ipynb",
      "provenance": [],
      "collapsed_sections": []
    },
    "kernelspec": {
      "name": "python3",
      "display_name": "Python 3"
    }
  },
  "cells": [
    {
      "cell_type": "code",
      "metadata": {
        "id": "lUTyfYufRZfg",
        "colab_type": "code",
        "colab": {}
      },
      "source": [
        "!pip install -r requirements.txt"
      ],
      "execution_count": null,
      "outputs": []
    },
    {
      "cell_type": "code",
      "metadata": {
        "id": "wihLKHVMkmMi",
        "colab_type": "code",
        "colab": {}
      },
      "source": [
        "import numpy as np\n",
        "import pandas as pd\n",
        "\n",
        "import matplotlib.pyplot as plt\n",
        "%matplotlib inline\n",
        "import seaborn as sns\n",
        "\n",
        "from sklearn.linear_model import LogisticRegression\n",
        "from sklearn.tree import DecisionTreeClassifier\n",
        "from sklearn.neighbors import KNeighborsClassifier\n",
        "from sklearn.preprocessing import LabelEncoder, StandardScaler\n",
        "from sklearn.metrics import accuracy_score, plot_confusion_matrix\n",
        "from sklearn.model_selection import cross_val_score, StratifiedKFold, GridSearchCV"
      ],
      "execution_count": 53,
      "outputs": []
    },
    {
      "cell_type": "code",
      "metadata": {
        "id": "eMr-Z4SRmumD",
        "colab_type": "code",
        "colab": {}
      },
      "source": [
        "test_data = pd.read_csv(\"test.csv\")\n",
        "train_data = pd.read_csv(\"train.csv\")"
      ],
      "execution_count": 2,
      "outputs": []
    },
    {
      "cell_type": "code",
      "metadata": {
        "id": "F5G7utsuncfc",
        "colab_type": "code",
        "colab": {
          "base_uri": "https://localhost:8080/",
          "height": 424
        },
        "outputId": "7b3f3f68-a32f-44b5-8944-91cdd055acf0"
      },
      "source": [
        "test_data"
      ],
      "execution_count": 3,
      "outputs": [
        {
          "output_type": "execute_result",
          "data": {
            "text/html": [
              "<div>\n",
              "<style scoped>\n",
              "    .dataframe tbody tr th:only-of-type {\n",
              "        vertical-align: middle;\n",
              "    }\n",
              "\n",
              "    .dataframe tbody tr th {\n",
              "        vertical-align: top;\n",
              "    }\n",
              "\n",
              "    .dataframe thead th {\n",
              "        text-align: right;\n",
              "    }\n",
              "</style>\n",
              "<table border=\"1\" class=\"dataframe\">\n",
              "  <thead>\n",
              "    <tr style=\"text-align: right;\">\n",
              "      <th></th>\n",
              "      <th>No-show</th>\n",
              "      <th>PatientId</th>\n",
              "      <th>AppointmentID</th>\n",
              "      <th>Gender</th>\n",
              "      <th>ScheduledDay</th>\n",
              "      <th>AppointmentDay</th>\n",
              "      <th>Age</th>\n",
              "      <th>Neighbourhood</th>\n",
              "      <th>Scholarship</th>\n",
              "      <th>Hipertension</th>\n",
              "      <th>Diabetes</th>\n",
              "      <th>Alcoholism</th>\n",
              "      <th>Handcap</th>\n",
              "      <th>SMS_received</th>\n",
              "    </tr>\n",
              "  </thead>\n",
              "  <tbody>\n",
              "    <tr>\n",
              "      <th>0</th>\n",
              "      <td>No</td>\n",
              "      <td>9.794952e+13</td>\n",
              "      <td>5559602</td>\n",
              "      <td>F</td>\n",
              "      <td>2016-04-08T07:56:57Z</td>\n",
              "      <td>2016-06-06T00:00:00Z</td>\n",
              "      <td>51</td>\n",
              "      <td>SANTA CECÍLIA</td>\n",
              "      <td>0</td>\n",
              "      <td>0</td>\n",
              "      <td>0</td>\n",
              "      <td>0</td>\n",
              "      <td>0</td>\n",
              "      <td>1</td>\n",
              "    </tr>\n",
              "    <tr>\n",
              "      <th>1</th>\n",
              "      <td>No</td>\n",
              "      <td>3.422269e+13</td>\n",
              "      <td>5644248</td>\n",
              "      <td>F</td>\n",
              "      <td>2016-05-02T08:25:58Z</td>\n",
              "      <td>2016-05-03T00:00:00Z</td>\n",
              "      <td>14</td>\n",
              "      <td>JARDIM CAMBURI</td>\n",
              "      <td>0</td>\n",
              "      <td>0</td>\n",
              "      <td>0</td>\n",
              "      <td>0</td>\n",
              "      <td>0</td>\n",
              "      <td>0</td>\n",
              "    </tr>\n",
              "    <tr>\n",
              "      <th>2</th>\n",
              "      <td>Yes</td>\n",
              "      <td>2.713528e+13</td>\n",
              "      <td>5704292</td>\n",
              "      <td>M</td>\n",
              "      <td>2016-05-16T15:27:31Z</td>\n",
              "      <td>2016-05-18T00:00:00Z</td>\n",
              "      <td>6</td>\n",
              "      <td>JARDIM CAMBURI</td>\n",
              "      <td>0</td>\n",
              "      <td>0</td>\n",
              "      <td>0</td>\n",
              "      <td>0</td>\n",
              "      <td>0</td>\n",
              "      <td>0</td>\n",
              "    </tr>\n",
              "    <tr>\n",
              "      <th>3</th>\n",
              "      <td>No</td>\n",
              "      <td>2.473834e+13</td>\n",
              "      <td>5666811</td>\n",
              "      <td>M</td>\n",
              "      <td>2016-05-06T07:08:10Z</td>\n",
              "      <td>2016-05-06T00:00:00Z</td>\n",
              "      <td>70</td>\n",
              "      <td>NOVA PALESTINA</td>\n",
              "      <td>0</td>\n",
              "      <td>1</td>\n",
              "      <td>0</td>\n",
              "      <td>0</td>\n",
              "      <td>0</td>\n",
              "      <td>0</td>\n",
              "    </tr>\n",
              "    <tr>\n",
              "      <th>4</th>\n",
              "      <td>No</td>\n",
              "      <td>6.611455e+13</td>\n",
              "      <td>5657051</td>\n",
              "      <td>F</td>\n",
              "      <td>2016-05-04T08:51:42Z</td>\n",
              "      <td>2016-05-05T00:00:00Z</td>\n",
              "      <td>64</td>\n",
              "      <td>CARATOÍRA</td>\n",
              "      <td>1</td>\n",
              "      <td>0</td>\n",
              "      <td>0</td>\n",
              "      <td>1</td>\n",
              "      <td>0</td>\n",
              "      <td>0</td>\n",
              "    </tr>\n",
              "    <tr>\n",
              "      <th>...</th>\n",
              "      <td>...</td>\n",
              "      <td>...</td>\n",
              "      <td>...</td>\n",
              "      <td>...</td>\n",
              "      <td>...</td>\n",
              "      <td>...</td>\n",
              "      <td>...</td>\n",
              "      <td>...</td>\n",
              "      <td>...</td>\n",
              "      <td>...</td>\n",
              "      <td>...</td>\n",
              "      <td>...</td>\n",
              "      <td>...</td>\n",
              "      <td>...</td>\n",
              "    </tr>\n",
              "    <tr>\n",
              "      <th>17680</th>\n",
              "      <td>No</td>\n",
              "      <td>5.986123e+11</td>\n",
              "      <td>5608032</td>\n",
              "      <td>F</td>\n",
              "      <td>2016-04-20T13:07:51Z</td>\n",
              "      <td>2016-05-18T00:00:00Z</td>\n",
              "      <td>47</td>\n",
              "      <td>DA PENHA</td>\n",
              "      <td>0</td>\n",
              "      <td>0</td>\n",
              "      <td>0</td>\n",
              "      <td>0</td>\n",
              "      <td>0</td>\n",
              "      <td>0</td>\n",
              "    </tr>\n",
              "    <tr>\n",
              "      <th>17681</th>\n",
              "      <td>Yes</td>\n",
              "      <td>8.259178e+13</td>\n",
              "      <td>5611554</td>\n",
              "      <td>F</td>\n",
              "      <td>2016-04-25T07:20:48Z</td>\n",
              "      <td>2016-05-03T00:00:00Z</td>\n",
              "      <td>58</td>\n",
              "      <td>GOIABEIRAS</td>\n",
              "      <td>0</td>\n",
              "      <td>0</td>\n",
              "      <td>0</td>\n",
              "      <td>0</td>\n",
              "      <td>0</td>\n",
              "      <td>1</td>\n",
              "    </tr>\n",
              "    <tr>\n",
              "      <th>17682</th>\n",
              "      <td>No</td>\n",
              "      <td>4.997489e+13</td>\n",
              "      <td>5424405</td>\n",
              "      <td>M</td>\n",
              "      <td>2016-03-03T08:17:39Z</td>\n",
              "      <td>2016-05-20T00:00:00Z</td>\n",
              "      <td>68</td>\n",
              "      <td>FONTE GRANDE</td>\n",
              "      <td>0</td>\n",
              "      <td>1</td>\n",
              "      <td>0</td>\n",
              "      <td>0</td>\n",
              "      <td>0</td>\n",
              "      <td>0</td>\n",
              "    </tr>\n",
              "    <tr>\n",
              "      <th>17683</th>\n",
              "      <td>No</td>\n",
              "      <td>8.658184e+10</td>\n",
              "      <td>5697955</td>\n",
              "      <td>F</td>\n",
              "      <td>2016-05-16T07:06:16Z</td>\n",
              "      <td>2016-05-16T00:00:00Z</td>\n",
              "      <td>59</td>\n",
              "      <td>JARDIM CAMBURI</td>\n",
              "      <td>0</td>\n",
              "      <td>0</td>\n",
              "      <td>0</td>\n",
              "      <td>0</td>\n",
              "      <td>0</td>\n",
              "      <td>0</td>\n",
              "    </tr>\n",
              "    <tr>\n",
              "      <th>17684</th>\n",
              "      <td>Yes</td>\n",
              "      <td>9.472874e+12</td>\n",
              "      <td>5750789</td>\n",
              "      <td>M</td>\n",
              "      <td>2016-05-31T09:19:21Z</td>\n",
              "      <td>2016-06-06T00:00:00Z</td>\n",
              "      <td>13</td>\n",
              "      <td>MONTE BELO</td>\n",
              "      <td>1</td>\n",
              "      <td>0</td>\n",
              "      <td>0</td>\n",
              "      <td>0</td>\n",
              "      <td>0</td>\n",
              "      <td>1</td>\n",
              "    </tr>\n",
              "  </tbody>\n",
              "</table>\n",
              "<p>17685 rows × 14 columns</p>\n",
              "</div>"
            ],
            "text/plain": [
              "      No-show     PatientId  AppointmentID  ... Alcoholism Handcap SMS_received\n",
              "0          No  9.794952e+13        5559602  ...          0       0            1\n",
              "1          No  3.422269e+13        5644248  ...          0       0            0\n",
              "2         Yes  2.713528e+13        5704292  ...          0       0            0\n",
              "3          No  2.473834e+13        5666811  ...          0       0            0\n",
              "4          No  6.611455e+13        5657051  ...          1       0            0\n",
              "...       ...           ...            ...  ...        ...     ...          ...\n",
              "17680      No  5.986123e+11        5608032  ...          0       0            0\n",
              "17681     Yes  8.259178e+13        5611554  ...          0       0            1\n",
              "17682      No  4.997489e+13        5424405  ...          0       0            0\n",
              "17683      No  8.658184e+10        5697955  ...          0       0            0\n",
              "17684     Yes  9.472874e+12        5750789  ...          0       0            1\n",
              "\n",
              "[17685 rows x 14 columns]"
            ]
          },
          "metadata": {
            "tags": []
          },
          "execution_count": 3
        }
      ]
    },
    {
      "cell_type": "code",
      "metadata": {
        "id": "DaryMK2hnfZl",
        "colab_type": "code",
        "colab": {
          "base_uri": "https://localhost:8080/",
          "height": 424
        },
        "outputId": "bc81d38e-7c67-4f35-b779-81eb81ccf5dd"
      },
      "source": [
        "train_data"
      ],
      "execution_count": 4,
      "outputs": [
        {
          "output_type": "execute_result",
          "data": {
            "text/html": [
              "<div>\n",
              "<style scoped>\n",
              "    .dataframe tbody tr th:only-of-type {\n",
              "        vertical-align: middle;\n",
              "    }\n",
              "\n",
              "    .dataframe tbody tr th {\n",
              "        vertical-align: top;\n",
              "    }\n",
              "\n",
              "    .dataframe thead th {\n",
              "        text-align: right;\n",
              "    }\n",
              "</style>\n",
              "<table border=\"1\" class=\"dataframe\">\n",
              "  <thead>\n",
              "    <tr style=\"text-align: right;\">\n",
              "      <th></th>\n",
              "      <th>No-show</th>\n",
              "      <th>PatientId</th>\n",
              "      <th>AppointmentID</th>\n",
              "      <th>Gender</th>\n",
              "      <th>ScheduledDay</th>\n",
              "      <th>AppointmentDay</th>\n",
              "      <th>Age</th>\n",
              "      <th>Neighbourhood</th>\n",
              "      <th>Scholarship</th>\n",
              "      <th>Hipertension</th>\n",
              "      <th>Diabetes</th>\n",
              "      <th>Alcoholism</th>\n",
              "      <th>Handcap</th>\n",
              "      <th>SMS_received</th>\n",
              "    </tr>\n",
              "  </thead>\n",
              "  <tbody>\n",
              "    <tr>\n",
              "      <th>0</th>\n",
              "      <td>No</td>\n",
              "      <td>2.749499e+14</td>\n",
              "      <td>5675255</td>\n",
              "      <td>F</td>\n",
              "      <td>2016-05-09T13:25:03Z</td>\n",
              "      <td>2016-05-10T00:00:00Z</td>\n",
              "      <td>83</td>\n",
              "      <td>JARDIM CAMBURI</td>\n",
              "      <td>0</td>\n",
              "      <td>1</td>\n",
              "      <td>1</td>\n",
              "      <td>0</td>\n",
              "      <td>0</td>\n",
              "      <td>0</td>\n",
              "    </tr>\n",
              "    <tr>\n",
              "      <th>1</th>\n",
              "      <td>No</td>\n",
              "      <td>7.558578e+14</td>\n",
              "      <td>5671219</td>\n",
              "      <td>F</td>\n",
              "      <td>2016-05-06T15:54:56Z</td>\n",
              "      <td>2016-05-09T00:00:00Z</td>\n",
              "      <td>21</td>\n",
              "      <td>GURIGICA</td>\n",
              "      <td>0</td>\n",
              "      <td>0</td>\n",
              "      <td>0</td>\n",
              "      <td>0</td>\n",
              "      <td>0</td>\n",
              "      <td>0</td>\n",
              "    </tr>\n",
              "    <tr>\n",
              "      <th>2</th>\n",
              "      <td>No</td>\n",
              "      <td>4.578173e+13</td>\n",
              "      <td>5663515</td>\n",
              "      <td>F</td>\n",
              "      <td>2016-05-05T10:10:12Z</td>\n",
              "      <td>2016-05-11T00:00:00Z</td>\n",
              "      <td>10</td>\n",
              "      <td>SANTO ANDRÉ</td>\n",
              "      <td>0</td>\n",
              "      <td>0</td>\n",
              "      <td>0</td>\n",
              "      <td>0</td>\n",
              "      <td>0</td>\n",
              "      <td>1</td>\n",
              "    </tr>\n",
              "    <tr>\n",
              "      <th>3</th>\n",
              "      <td>Yes</td>\n",
              "      <td>4.176779e+12</td>\n",
              "      <td>5682747</td>\n",
              "      <td>F</td>\n",
              "      <td>2016-05-10T18:26:55Z</td>\n",
              "      <td>2016-05-20T00:00:00Z</td>\n",
              "      <td>60</td>\n",
              "      <td>GRANDE VITÓRIA</td>\n",
              "      <td>0</td>\n",
              "      <td>1</td>\n",
              "      <td>1</td>\n",
              "      <td>0</td>\n",
              "      <td>0</td>\n",
              "      <td>0</td>\n",
              "    </tr>\n",
              "    <tr>\n",
              "      <th>4</th>\n",
              "      <td>No</td>\n",
              "      <td>2.643695e+10</td>\n",
              "      <td>5660969</td>\n",
              "      <td>F</td>\n",
              "      <td>2016-05-05T07:05:34Z</td>\n",
              "      <td>2016-05-12T00:00:00Z</td>\n",
              "      <td>24</td>\n",
              "      <td>SANTO ANTÔNIO</td>\n",
              "      <td>0</td>\n",
              "      <td>0</td>\n",
              "      <td>0</td>\n",
              "      <td>0</td>\n",
              "      <td>0</td>\n",
              "      <td>1</td>\n",
              "    </tr>\n",
              "    <tr>\n",
              "      <th>...</th>\n",
              "      <td>...</td>\n",
              "      <td>...</td>\n",
              "      <td>...</td>\n",
              "      <td>...</td>\n",
              "      <td>...</td>\n",
              "      <td>...</td>\n",
              "      <td>...</td>\n",
              "      <td>...</td>\n",
              "      <td>...</td>\n",
              "      <td>...</td>\n",
              "      <td>...</td>\n",
              "      <td>...</td>\n",
              "      <td>...</td>\n",
              "      <td>...</td>\n",
              "    </tr>\n",
              "    <tr>\n",
              "      <th>70731</th>\n",
              "      <td>No</td>\n",
              "      <td>6.931966e+14</td>\n",
              "      <td>5747475</td>\n",
              "      <td>F</td>\n",
              "      <td>2016-05-30T15:42:37Z</td>\n",
              "      <td>2016-06-02T00:00:00Z</td>\n",
              "      <td>25</td>\n",
              "      <td>SANTA MARTHA</td>\n",
              "      <td>1</td>\n",
              "      <td>0</td>\n",
              "      <td>0</td>\n",
              "      <td>0</td>\n",
              "      <td>0</td>\n",
              "      <td>1</td>\n",
              "    </tr>\n",
              "    <tr>\n",
              "      <th>70732</th>\n",
              "      <td>No</td>\n",
              "      <td>3.881481e+13</td>\n",
              "      <td>5594543</td>\n",
              "      <td>M</td>\n",
              "      <td>2016-04-18T10:52:52Z</td>\n",
              "      <td>2016-05-13T00:00:00Z</td>\n",
              "      <td>57</td>\n",
              "      <td>JARDIM DA PENHA</td>\n",
              "      <td>0</td>\n",
              "      <td>0</td>\n",
              "      <td>0</td>\n",
              "      <td>0</td>\n",
              "      <td>0</td>\n",
              "      <td>0</td>\n",
              "    </tr>\n",
              "    <tr>\n",
              "      <th>70733</th>\n",
              "      <td>Yes</td>\n",
              "      <td>6.544869e+10</td>\n",
              "      <td>5637358</td>\n",
              "      <td>M</td>\n",
              "      <td>2016-04-28T19:38:53Z</td>\n",
              "      <td>2016-04-29T00:00:00Z</td>\n",
              "      <td>62</td>\n",
              "      <td>MARUÍPE</td>\n",
              "      <td>0</td>\n",
              "      <td>1</td>\n",
              "      <td>0</td>\n",
              "      <td>0</td>\n",
              "      <td>0</td>\n",
              "      <td>0</td>\n",
              "    </tr>\n",
              "    <tr>\n",
              "      <th>70734</th>\n",
              "      <td>No</td>\n",
              "      <td>9.461466e+09</td>\n",
              "      <td>5685532</td>\n",
              "      <td>M</td>\n",
              "      <td>2016-05-11T10:32:48Z</td>\n",
              "      <td>2016-05-11T00:00:00Z</td>\n",
              "      <td>26</td>\n",
              "      <td>JARDIM CAMBURI</td>\n",
              "      <td>0</td>\n",
              "      <td>0</td>\n",
              "      <td>0</td>\n",
              "      <td>0</td>\n",
              "      <td>0</td>\n",
              "      <td>0</td>\n",
              "    </tr>\n",
              "    <tr>\n",
              "      <th>70735</th>\n",
              "      <td>Yes</td>\n",
              "      <td>5.482937e+14</td>\n",
              "      <td>5643544</td>\n",
              "      <td>F</td>\n",
              "      <td>2016-05-02T07:32:50Z</td>\n",
              "      <td>2016-05-13T00:00:00Z</td>\n",
              "      <td>64</td>\n",
              "      <td>NOVA PALESTINA</td>\n",
              "      <td>0</td>\n",
              "      <td>0</td>\n",
              "      <td>1</td>\n",
              "      <td>0</td>\n",
              "      <td>0</td>\n",
              "      <td>0</td>\n",
              "    </tr>\n",
              "  </tbody>\n",
              "</table>\n",
              "<p>70736 rows × 14 columns</p>\n",
              "</div>"
            ],
            "text/plain": [
              "      No-show     PatientId  AppointmentID  ... Alcoholism Handcap SMS_received\n",
              "0          No  2.749499e+14        5675255  ...          0       0            0\n",
              "1          No  7.558578e+14        5671219  ...          0       0            0\n",
              "2          No  4.578173e+13        5663515  ...          0       0            1\n",
              "3         Yes  4.176779e+12        5682747  ...          0       0            0\n",
              "4          No  2.643695e+10        5660969  ...          0       0            1\n",
              "...       ...           ...            ...  ...        ...     ...          ...\n",
              "70731      No  6.931966e+14        5747475  ...          0       0            1\n",
              "70732      No  3.881481e+13        5594543  ...          0       0            0\n",
              "70733     Yes  6.544869e+10        5637358  ...          0       0            0\n",
              "70734      No  9.461466e+09        5685532  ...          0       0            0\n",
              "70735     Yes  5.482937e+14        5643544  ...          0       0            0\n",
              "\n",
              "[70736 rows x 14 columns]"
            ]
          },
          "metadata": {
            "tags": []
          },
          "execution_count": 4
        }
      ]
    },
    {
      "cell_type": "code",
      "metadata": {
        "id": "3AhGCHwILZLg",
        "colab_type": "code",
        "colab": {
          "base_uri": "https://localhost:8080/",
          "height": 300
        },
        "outputId": "05bfe4f7-fac1-425f-eeb1-a7536ed37a16"
      },
      "source": [
        "test_data.describe()"
      ],
      "execution_count": 5,
      "outputs": [
        {
          "output_type": "execute_result",
          "data": {
            "text/html": [
              "<div>\n",
              "<style scoped>\n",
              "    .dataframe tbody tr th:only-of-type {\n",
              "        vertical-align: middle;\n",
              "    }\n",
              "\n",
              "    .dataframe tbody tr th {\n",
              "        vertical-align: top;\n",
              "    }\n",
              "\n",
              "    .dataframe thead th {\n",
              "        text-align: right;\n",
              "    }\n",
              "</style>\n",
              "<table border=\"1\" class=\"dataframe\">\n",
              "  <thead>\n",
              "    <tr style=\"text-align: right;\">\n",
              "      <th></th>\n",
              "      <th>PatientId</th>\n",
              "      <th>AppointmentID</th>\n",
              "      <th>Age</th>\n",
              "      <th>Scholarship</th>\n",
              "      <th>Hipertension</th>\n",
              "      <th>Diabetes</th>\n",
              "      <th>Alcoholism</th>\n",
              "      <th>Handcap</th>\n",
              "      <th>SMS_received</th>\n",
              "    </tr>\n",
              "  </thead>\n",
              "  <tbody>\n",
              "    <tr>\n",
              "      <th>count</th>\n",
              "      <td>1.768500e+04</td>\n",
              "      <td>1.768500e+04</td>\n",
              "      <td>17685.000000</td>\n",
              "      <td>17685.000000</td>\n",
              "      <td>17685.000000</td>\n",
              "      <td>17685.000000</td>\n",
              "      <td>17685.000000</td>\n",
              "      <td>17685.000000</td>\n",
              "      <td>17685.000000</td>\n",
              "    </tr>\n",
              "    <tr>\n",
              "      <th>mean</th>\n",
              "      <td>1.502047e+14</td>\n",
              "      <td>5.675001e+06</td>\n",
              "      <td>37.124343</td>\n",
              "      <td>0.099689</td>\n",
              "      <td>0.198247</td>\n",
              "      <td>0.073452</td>\n",
              "      <td>0.032061</td>\n",
              "      <td>0.021657</td>\n",
              "      <td>0.322986</td>\n",
              "    </tr>\n",
              "    <tr>\n",
              "      <th>std</th>\n",
              "      <td>2.590241e+14</td>\n",
              "      <td>7.205760e+04</td>\n",
              "      <td>23.009331</td>\n",
              "      <td>0.299593</td>\n",
              "      <td>0.398691</td>\n",
              "      <td>0.260884</td>\n",
              "      <td>0.176167</td>\n",
              "      <td>0.156425</td>\n",
              "      <td>0.467630</td>\n",
              "    </tr>\n",
              "    <tr>\n",
              "      <th>min</th>\n",
              "      <td>2.263866e+07</td>\n",
              "      <td>5.030230e+06</td>\n",
              "      <td>0.000000</td>\n",
              "      <td>0.000000</td>\n",
              "      <td>0.000000</td>\n",
              "      <td>0.000000</td>\n",
              "      <td>0.000000</td>\n",
              "      <td>0.000000</td>\n",
              "      <td>0.000000</td>\n",
              "    </tr>\n",
              "    <tr>\n",
              "      <th>25%</th>\n",
              "      <td>3.993423e+12</td>\n",
              "      <td>5.640909e+06</td>\n",
              "      <td>18.000000</td>\n",
              "      <td>0.000000</td>\n",
              "      <td>0.000000</td>\n",
              "      <td>0.000000</td>\n",
              "      <td>0.000000</td>\n",
              "      <td>0.000000</td>\n",
              "      <td>0.000000</td>\n",
              "    </tr>\n",
              "    <tr>\n",
              "      <th>50%</th>\n",
              "      <td>2.999466e+13</td>\n",
              "      <td>5.680718e+06</td>\n",
              "      <td>37.000000</td>\n",
              "      <td>0.000000</td>\n",
              "      <td>0.000000</td>\n",
              "      <td>0.000000</td>\n",
              "      <td>0.000000</td>\n",
              "      <td>0.000000</td>\n",
              "      <td>0.000000</td>\n",
              "    </tr>\n",
              "    <tr>\n",
              "      <th>75%</th>\n",
              "      <td>9.514188e+13</td>\n",
              "      <td>5.724373e+06</td>\n",
              "      <td>55.000000</td>\n",
              "      <td>0.000000</td>\n",
              "      <td>0.000000</td>\n",
              "      <td>0.000000</td>\n",
              "      <td>0.000000</td>\n",
              "      <td>0.000000</td>\n",
              "      <td>1.000000</td>\n",
              "    </tr>\n",
              "    <tr>\n",
              "      <th>max</th>\n",
              "      <td>9.998318e+14</td>\n",
              "      <td>5.790372e+06</td>\n",
              "      <td>115.000000</td>\n",
              "      <td>1.000000</td>\n",
              "      <td>1.000000</td>\n",
              "      <td>1.000000</td>\n",
              "      <td>1.000000</td>\n",
              "      <td>3.000000</td>\n",
              "      <td>1.000000</td>\n",
              "    </tr>\n",
              "  </tbody>\n",
              "</table>\n",
              "</div>"
            ],
            "text/plain": [
              "          PatientId  AppointmentID  ...       Handcap  SMS_received\n",
              "count  1.768500e+04   1.768500e+04  ...  17685.000000  17685.000000\n",
              "mean   1.502047e+14   5.675001e+06  ...      0.021657      0.322986\n",
              "std    2.590241e+14   7.205760e+04  ...      0.156425      0.467630\n",
              "min    2.263866e+07   5.030230e+06  ...      0.000000      0.000000\n",
              "25%    3.993423e+12   5.640909e+06  ...      0.000000      0.000000\n",
              "50%    2.999466e+13   5.680718e+06  ...      0.000000      0.000000\n",
              "75%    9.514188e+13   5.724373e+06  ...      0.000000      1.000000\n",
              "max    9.998318e+14   5.790372e+06  ...      3.000000      1.000000\n",
              "\n",
              "[8 rows x 9 columns]"
            ]
          },
          "metadata": {
            "tags": []
          },
          "execution_count": 5
        }
      ]
    },
    {
      "cell_type": "code",
      "metadata": {
        "id": "olBmtnkjLcQd",
        "colab_type": "code",
        "colab": {
          "base_uri": "https://localhost:8080/",
          "height": 300
        },
        "outputId": "43884813-d969-4136-8e87-d9edb4a7ed42"
      },
      "source": [
        "train_data.describe()"
      ],
      "execution_count": 6,
      "outputs": [
        {
          "output_type": "execute_result",
          "data": {
            "text/html": [
              "<div>\n",
              "<style scoped>\n",
              "    .dataframe tbody tr th:only-of-type {\n",
              "        vertical-align: middle;\n",
              "    }\n",
              "\n",
              "    .dataframe tbody tr th {\n",
              "        vertical-align: top;\n",
              "    }\n",
              "\n",
              "    .dataframe thead th {\n",
              "        text-align: right;\n",
              "    }\n",
              "</style>\n",
              "<table border=\"1\" class=\"dataframe\">\n",
              "  <thead>\n",
              "    <tr style=\"text-align: right;\">\n",
              "      <th></th>\n",
              "      <th>PatientId</th>\n",
              "      <th>AppointmentID</th>\n",
              "      <th>Age</th>\n",
              "      <th>Scholarship</th>\n",
              "      <th>Hipertension</th>\n",
              "      <th>Diabetes</th>\n",
              "      <th>Alcoholism</th>\n",
              "      <th>Handcap</th>\n",
              "      <th>SMS_received</th>\n",
              "    </tr>\n",
              "  </thead>\n",
              "  <tbody>\n",
              "    <tr>\n",
              "      <th>count</th>\n",
              "      <td>7.073600e+04</td>\n",
              "      <td>7.073600e+04</td>\n",
              "      <td>70736.000000</td>\n",
              "      <td>70736.000000</td>\n",
              "      <td>70736.000000</td>\n",
              "      <td>70736.000000</td>\n",
              "      <td>70736.000000</td>\n",
              "      <td>70736.000000</td>\n",
              "      <td>70736.000000</td>\n",
              "    </tr>\n",
              "    <tr>\n",
              "      <th>mean</th>\n",
              "      <td>1.480485e+14</td>\n",
              "      <td>5.675489e+06</td>\n",
              "      <td>37.124703</td>\n",
              "      <td>0.099115</td>\n",
              "      <td>0.198018</td>\n",
              "      <td>0.072043</td>\n",
              "      <td>0.030282</td>\n",
              "      <td>0.022577</td>\n",
              "      <td>0.321194</td>\n",
              "    </tr>\n",
              "    <tr>\n",
              "      <th>std</th>\n",
              "      <td>2.565955e+14</td>\n",
              "      <td>7.114733e+04</td>\n",
              "      <td>23.128171</td>\n",
              "      <td>0.298818</td>\n",
              "      <td>0.398509</td>\n",
              "      <td>0.258560</td>\n",
              "      <td>0.171362</td>\n",
              "      <td>0.164020</td>\n",
              "      <td>0.466939</td>\n",
              "    </tr>\n",
              "    <tr>\n",
              "      <th>min</th>\n",
              "      <td>3.921784e+04</td>\n",
              "      <td>5.134197e+06</td>\n",
              "      <td>0.000000</td>\n",
              "      <td>0.000000</td>\n",
              "      <td>0.000000</td>\n",
              "      <td>0.000000</td>\n",
              "      <td>0.000000</td>\n",
              "      <td>0.000000</td>\n",
              "      <td>0.000000</td>\n",
              "    </tr>\n",
              "    <tr>\n",
              "      <th>25%</th>\n",
              "      <td>4.176524e+12</td>\n",
              "      <td>5.640370e+06</td>\n",
              "      <td>18.000000</td>\n",
              "      <td>0.000000</td>\n",
              "      <td>0.000000</td>\n",
              "      <td>0.000000</td>\n",
              "      <td>0.000000</td>\n",
              "      <td>0.000000</td>\n",
              "      <td>0.000000</td>\n",
              "    </tr>\n",
              "    <tr>\n",
              "      <th>50%</th>\n",
              "      <td>3.235129e+13</td>\n",
              "      <td>5.680774e+06</td>\n",
              "      <td>37.000000</td>\n",
              "      <td>0.000000</td>\n",
              "      <td>0.000000</td>\n",
              "      <td>0.000000</td>\n",
              "      <td>0.000000</td>\n",
              "      <td>0.000000</td>\n",
              "      <td>0.000000</td>\n",
              "    </tr>\n",
              "    <tr>\n",
              "      <th>75%</th>\n",
              "      <td>9.455936e+13</td>\n",
              "      <td>5.725840e+06</td>\n",
              "      <td>55.000000</td>\n",
              "      <td>0.000000</td>\n",
              "      <td>0.000000</td>\n",
              "      <td>0.000000</td>\n",
              "      <td>0.000000</td>\n",
              "      <td>0.000000</td>\n",
              "      <td>1.000000</td>\n",
              "    </tr>\n",
              "    <tr>\n",
              "      <th>max</th>\n",
              "      <td>9.999816e+14</td>\n",
              "      <td>5.790481e+06</td>\n",
              "      <td>115.000000</td>\n",
              "      <td>1.000000</td>\n",
              "      <td>1.000000</td>\n",
              "      <td>1.000000</td>\n",
              "      <td>1.000000</td>\n",
              "      <td>4.000000</td>\n",
              "      <td>1.000000</td>\n",
              "    </tr>\n",
              "  </tbody>\n",
              "</table>\n",
              "</div>"
            ],
            "text/plain": [
              "          PatientId  AppointmentID  ...       Handcap  SMS_received\n",
              "count  7.073600e+04   7.073600e+04  ...  70736.000000  70736.000000\n",
              "mean   1.480485e+14   5.675489e+06  ...      0.022577      0.321194\n",
              "std    2.565955e+14   7.114733e+04  ...      0.164020      0.466939\n",
              "min    3.921784e+04   5.134197e+06  ...      0.000000      0.000000\n",
              "25%    4.176524e+12   5.640370e+06  ...      0.000000      0.000000\n",
              "50%    3.235129e+13   5.680774e+06  ...      0.000000      0.000000\n",
              "75%    9.455936e+13   5.725840e+06  ...      0.000000      1.000000\n",
              "max    9.999816e+14   5.790481e+06  ...      4.000000      1.000000\n",
              "\n",
              "[8 rows x 9 columns]"
            ]
          },
          "metadata": {
            "tags": []
          },
          "execution_count": 6
        }
      ]
    },
    {
      "cell_type": "markdown",
      "metadata": {
        "id": "SShiHjFTvghl",
        "colab_type": "text"
      },
      "source": [
        "**Check datatypes and null count**"
      ]
    },
    {
      "cell_type": "code",
      "metadata": {
        "id": "htlak_iUnzNc",
        "colab_type": "code",
        "colab": {
          "base_uri": "https://localhost:8080/",
          "height": 403
        },
        "outputId": "d63d5c1d-a98c-43f3-c614-b3348597de3a"
      },
      "source": [
        "train_data.info()"
      ],
      "execution_count": 7,
      "outputs": [
        {
          "output_type": "stream",
          "text": [
            "<class 'pandas.core.frame.DataFrame'>\n",
            "RangeIndex: 70736 entries, 0 to 70735\n",
            "Data columns (total 14 columns):\n",
            " #   Column          Non-Null Count  Dtype  \n",
            "---  ------          --------------  -----  \n",
            " 0   No-show         70736 non-null  object \n",
            " 1   PatientId       70736 non-null  float64\n",
            " 2   AppointmentID   70736 non-null  int64  \n",
            " 3   Gender          70736 non-null  object \n",
            " 4   ScheduledDay    70736 non-null  object \n",
            " 5   AppointmentDay  70736 non-null  object \n",
            " 6   Age             70736 non-null  int64  \n",
            " 7   Neighbourhood   70736 non-null  object \n",
            " 8   Scholarship     70736 non-null  int64  \n",
            " 9   Hipertension    70736 non-null  int64  \n",
            " 10  Diabetes        70736 non-null  int64  \n",
            " 11  Alcoholism      70736 non-null  int64  \n",
            " 12  Handcap         70736 non-null  int64  \n",
            " 13  SMS_received    70736 non-null  int64  \n",
            "dtypes: float64(1), int64(8), object(5)\n",
            "memory usage: 7.6+ MB\n"
          ],
          "name": "stdout"
        }
      ]
    },
    {
      "cell_type": "markdown",
      "metadata": {
        "id": "DzWd0CKXwJfc",
        "colab_type": "text"
      },
      "source": [
        "**The patient id data type is defined as float, it should be an int. It seems that even though values are float the decimal points are not used, so we should be able to easily convert them to int. We have to check for float with decimal values though.**\n",
        "\n",
        "**Scheduled day and appointment day should be of type datetime.**"
      ]
    },
    {
      "cell_type": "code",
      "metadata": {
        "id": "-K68wvbuO6fD",
        "colab_type": "code",
        "colab": {
          "base_uri": "https://localhost:8080/",
          "height": 293
        },
        "outputId": "91fa1e66-8ae2-4581-cb86-5a0dc2e303e0"
      },
      "source": [
        "train_data.isnull().sum()"
      ],
      "execution_count": 8,
      "outputs": [
        {
          "output_type": "execute_result",
          "data": {
            "text/plain": [
              "No-show           0\n",
              "PatientId         0\n",
              "AppointmentID     0\n",
              "Gender            0\n",
              "ScheduledDay      0\n",
              "AppointmentDay    0\n",
              "Age               0\n",
              "Neighbourhood     0\n",
              "Scholarship       0\n",
              "Hipertension      0\n",
              "Diabetes          0\n",
              "Alcoholism        0\n",
              "Handcap           0\n",
              "SMS_received      0\n",
              "dtype: int64"
            ]
          },
          "metadata": {
            "tags": []
          },
          "execution_count": 8
        }
      ]
    },
    {
      "cell_type": "markdown",
      "metadata": {
        "id": "jAr4UYGqPXPM",
        "colab_type": "text"
      },
      "source": [
        "**No null detected, we will remove them anyway.**"
      ]
    },
    {
      "cell_type": "markdown",
      "metadata": {
        "id": "af_T4WKdPmFy",
        "colab_type": "text"
      },
      "source": [
        "**We want to check if there are actual float values in the patient_id**"
      ]
    },
    {
      "cell_type": "code",
      "metadata": {
        "id": "swUD7I5rzdK5",
        "colab_type": "code",
        "colab": {
          "base_uri": "https://localhost:8080/",
          "height": 206
        },
        "outputId": "371e0f4c-0f62-492d-a74d-946a34231898"
      },
      "source": [
        "# We check if patient ids are int\n",
        "float_ids = train_data[~ train_data.PatientId.apply(lambda x: x.is_integer())]\n",
        "float_ids"
      ],
      "execution_count": 9,
      "outputs": [
        {
          "output_type": "execute_result",
          "data": {
            "text/html": [
              "<div>\n",
              "<style scoped>\n",
              "    .dataframe tbody tr th:only-of-type {\n",
              "        vertical-align: middle;\n",
              "    }\n",
              "\n",
              "    .dataframe tbody tr th {\n",
              "        vertical-align: top;\n",
              "    }\n",
              "\n",
              "    .dataframe thead th {\n",
              "        text-align: right;\n",
              "    }\n",
              "</style>\n",
              "<table border=\"1\" class=\"dataframe\">\n",
              "  <thead>\n",
              "    <tr style=\"text-align: right;\">\n",
              "      <th></th>\n",
              "      <th>No-show</th>\n",
              "      <th>PatientId</th>\n",
              "      <th>AppointmentID</th>\n",
              "      <th>Gender</th>\n",
              "      <th>ScheduledDay</th>\n",
              "      <th>AppointmentDay</th>\n",
              "      <th>Age</th>\n",
              "      <th>Neighbourhood</th>\n",
              "      <th>Scholarship</th>\n",
              "      <th>Hipertension</th>\n",
              "      <th>Diabetes</th>\n",
              "      <th>Alcoholism</th>\n",
              "      <th>Handcap</th>\n",
              "      <th>SMS_received</th>\n",
              "    </tr>\n",
              "  </thead>\n",
              "  <tbody>\n",
              "    <tr>\n",
              "      <th>25976</th>\n",
              "      <td>No</td>\n",
              "      <td>141724.16655</td>\n",
              "      <td>5637648</td>\n",
              "      <td>M</td>\n",
              "      <td>2016-04-29T07:13:36Z</td>\n",
              "      <td>2016-05-02T00:00:00Z</td>\n",
              "      <td>12</td>\n",
              "      <td>FORTE SÃO JOÃO</td>\n",
              "      <td>0</td>\n",
              "      <td>0</td>\n",
              "      <td>0</td>\n",
              "      <td>0</td>\n",
              "      <td>0</td>\n",
              "      <td>0</td>\n",
              "    </tr>\n",
              "    <tr>\n",
              "      <th>28226</th>\n",
              "      <td>No</td>\n",
              "      <td>537615.28476</td>\n",
              "      <td>5637728</td>\n",
              "      <td>F</td>\n",
              "      <td>2016-04-29T07:19:57Z</td>\n",
              "      <td>2016-05-06T00:00:00Z</td>\n",
              "      <td>14</td>\n",
              "      <td>FORTE SÃO JOÃO</td>\n",
              "      <td>0</td>\n",
              "      <td>0</td>\n",
              "      <td>0</td>\n",
              "      <td>0</td>\n",
              "      <td>0</td>\n",
              "      <td>1</td>\n",
              "    </tr>\n",
              "    <tr>\n",
              "      <th>28900</th>\n",
              "      <td>No</td>\n",
              "      <td>43741.75652</td>\n",
              "      <td>5760144</td>\n",
              "      <td>M</td>\n",
              "      <td>2016-06-01T14:22:58Z</td>\n",
              "      <td>2016-06-01T00:00:00Z</td>\n",
              "      <td>39</td>\n",
              "      <td>MARIA ORTIZ</td>\n",
              "      <td>0</td>\n",
              "      <td>0</td>\n",
              "      <td>1</td>\n",
              "      <td>0</td>\n",
              "      <td>0</td>\n",
              "      <td>0</td>\n",
              "    </tr>\n",
              "    <tr>\n",
              "      <th>49191</th>\n",
              "      <td>No</td>\n",
              "      <td>93779.52927</td>\n",
              "      <td>5712759</td>\n",
              "      <td>F</td>\n",
              "      <td>2016-05-18T09:12:29Z</td>\n",
              "      <td>2016-05-18T00:00:00Z</td>\n",
              "      <td>33</td>\n",
              "      <td>CENTRO</td>\n",
              "      <td>0</td>\n",
              "      <td>0</td>\n",
              "      <td>0</td>\n",
              "      <td>0</td>\n",
              "      <td>0</td>\n",
              "      <td>0</td>\n",
              "    </tr>\n",
              "    <tr>\n",
              "      <th>49898</th>\n",
              "      <td>No</td>\n",
              "      <td>39217.84439</td>\n",
              "      <td>5751990</td>\n",
              "      <td>F</td>\n",
              "      <td>2016-05-31T10:56:41Z</td>\n",
              "      <td>2016-06-03T00:00:00Z</td>\n",
              "      <td>44</td>\n",
              "      <td>PRAIA DO SUÁ</td>\n",
              "      <td>0</td>\n",
              "      <td>0</td>\n",
              "      <td>0</td>\n",
              "      <td>0</td>\n",
              "      <td>0</td>\n",
              "      <td>0</td>\n",
              "    </tr>\n",
              "  </tbody>\n",
              "</table>\n",
              "</div>"
            ],
            "text/plain": [
              "      No-show     PatientId  AppointmentID  ... Alcoholism Handcap SMS_received\n",
              "25976      No  141724.16655        5637648  ...          0       0            0\n",
              "28226      No  537615.28476        5637728  ...          0       0            1\n",
              "28900      No   43741.75652        5760144  ...          0       0            0\n",
              "49191      No   93779.52927        5712759  ...          0       0            0\n",
              "49898      No   39217.84439        5751990  ...          0       0            0\n",
              "\n",
              "[5 rows x 14 columns]"
            ]
          },
          "metadata": {
            "tags": []
          },
          "execution_count": 9
        }
      ]
    },
    {
      "cell_type": "markdown",
      "metadata": {
        "id": "Mktogwr_0ZjS",
        "colab_type": "text"
      },
      "source": [
        "**Since there are only 5 float patient_ids, we can convert them to int and keep them as new unique ids**"
      ]
    },
    {
      "cell_type": "markdown",
      "metadata": {
        "id": "GfkOHm7H4hkh",
        "colab_type": "text"
      },
      "source": [
        "**Check what unique values we have in the gender column**"
      ]
    },
    {
      "cell_type": "code",
      "metadata": {
        "id": "MnqtJzg44Z4q",
        "colab_type": "code",
        "colab": {
          "base_uri": "https://localhost:8080/",
          "height": 35
        },
        "outputId": "44fb164e-e15c-4c38-c0e8-8214e64cf581"
      },
      "source": [
        "print(\"Unique Values in `gender`: {}\".format(train_data.Gender.unique()))"
      ],
      "execution_count": 10,
      "outputs": [
        {
          "output_type": "stream",
          "text": [
            "Unique Values in `gender`: ['F' 'M']\n"
          ],
          "name": "stdout"
        }
      ]
    },
    {
      "cell_type": "markdown",
      "metadata": {
        "id": "Jt1qAl6t4xXl",
        "colab_type": "text"
      },
      "source": [
        "**Check what unique values we have in the age column**"
      ]
    },
    {
      "cell_type": "code",
      "metadata": {
        "id": "_Mgbdi-84vuH",
        "colab_type": "code",
        "colab": {
          "base_uri": "https://localhost:8080/",
          "height": 127
        },
        "outputId": "54b80b38-db4a-4fab-e207-c7024e10e19c"
      },
      "source": [
        "print(\"Unique Values in `age`: {}\".format(train_data.Age.unique()))"
      ],
      "execution_count": 11,
      "outputs": [
        {
          "output_type": "stream",
          "text": [
            "Unique Values in `age`: [ 83  21  10  60  24   9   0  23  91  30  37  46  16  33  38  69  40  59\n",
            "  73  58  45  52  74  28  55  86  14  26   1  18  61   8  25  50  51  65\n",
            "  32  19  22  11  36  41   2  49  82  35  80  66  79  31   4  42  29  78\n",
            "   3  34  62  53  20   5   7  44  27  63  48  54  57  85  93  56  76  94\n",
            "  12  15  71  92   6  77  67  39  95  17  68  72  81  64  47  70  75  13\n",
            "  43  84  88  89  90  87  96 102  97 115  98 100  99]\n"
          ],
          "name": "stdout"
        }
      ]
    },
    {
      "cell_type": "markdown",
      "metadata": {
        "id": "y7o1lzin5got",
        "colab_type": "text"
      },
      "source": [
        "**Check what unique values we have in the scholarship column**"
      ]
    },
    {
      "cell_type": "code",
      "metadata": {
        "id": "Aop5pfYB7abF",
        "colab_type": "code",
        "colab": {
          "base_uri": "https://localhost:8080/",
          "height": 35
        },
        "outputId": "444c76df-197a-4398-e3f2-c8fa5ab6e35f"
      },
      "source": [
        "print(\"Unique Values in `scholarship`: {}\".format(train_data.Scholarship.unique()))"
      ],
      "execution_count": 12,
      "outputs": [
        {
          "output_type": "stream",
          "text": [
            "Unique Values in `scholarship`: [0 1]\n"
          ],
          "name": "stdout"
        }
      ]
    },
    {
      "cell_type": "markdown",
      "metadata": {
        "id": "TXTB_jMT7i1Z",
        "colab_type": "text"
      },
      "source": [
        "**Check what unique values we have in the hypertension column**"
      ]
    },
    {
      "cell_type": "code",
      "metadata": {
        "id": "hIfCvKQZ7jAF",
        "colab_type": "code",
        "colab": {
          "base_uri": "https://localhost:8080/",
          "height": 35
        },
        "outputId": "b269b079-4cf3-48ab-ce70-108b851e2dc6"
      },
      "source": [
        "print(\"Unique Values in `hypertension`: {}\".format(train_data.Hipertension.unique()))"
      ],
      "execution_count": 13,
      "outputs": [
        {
          "output_type": "stream",
          "text": [
            "Unique Values in `hypertension`: [1 0]\n"
          ],
          "name": "stdout"
        }
      ]
    },
    {
      "cell_type": "markdown",
      "metadata": {
        "id": "6kYxJVd675f3",
        "colab_type": "text"
      },
      "source": [
        "**Check what unique values we have in the diabetes column**"
      ]
    },
    {
      "cell_type": "code",
      "metadata": {
        "id": "S0QlCc4Q7-yp",
        "colab_type": "code",
        "colab": {
          "base_uri": "https://localhost:8080/",
          "height": 35
        },
        "outputId": "20002be3-348b-4014-c492-642486bfdc9d"
      },
      "source": [
        "print(\"Unique Values in `diabetes`: {}\".format(train_data.Diabetes.unique()))"
      ],
      "execution_count": 14,
      "outputs": [
        {
          "output_type": "stream",
          "text": [
            "Unique Values in `diabetes`: [1 0]\n"
          ],
          "name": "stdout"
        }
      ]
    },
    {
      "cell_type": "markdown",
      "metadata": {
        "id": "FjndAdKD7_ci",
        "colab_type": "text"
      },
      "source": [
        "**Check what unique values we have in the alcoholism column**"
      ]
    },
    {
      "cell_type": "code",
      "metadata": {
        "id": "4L6VxSGy8Cvf",
        "colab_type": "code",
        "colab": {
          "base_uri": "https://localhost:8080/",
          "height": 35
        },
        "outputId": "4f268a93-d668-4e32-ed91-88a36adc20ab"
      },
      "source": [
        "print(\"Unique Values in `alcoholism`: {}\".format(train_data.Alcoholism.unique()))"
      ],
      "execution_count": 15,
      "outputs": [
        {
          "output_type": "stream",
          "text": [
            "Unique Values in `alcoholism`: [0 1]\n"
          ],
          "name": "stdout"
        }
      ]
    },
    {
      "cell_type": "markdown",
      "metadata": {
        "id": "kW05bZZ38DOt",
        "colab_type": "text"
      },
      "source": [
        "**Check what unique values we have in the handicap column**"
      ]
    },
    {
      "cell_type": "code",
      "metadata": {
        "id": "2Eb6VJsz8Gk2",
        "colab_type": "code",
        "colab": {
          "base_uri": "https://localhost:8080/",
          "height": 35
        },
        "outputId": "29153499-94c7-4784-b7ee-1d4e76ed35ee"
      },
      "source": [
        "print(\"Unique Values in `handicap`: {}\".format(train_data.Handcap.unique()))"
      ],
      "execution_count": 16,
      "outputs": [
        {
          "output_type": "stream",
          "text": [
            "Unique Values in `handicap`: [0 1 2 4 3]\n"
          ],
          "name": "stdout"
        }
      ]
    },
    {
      "cell_type": "markdown",
      "metadata": {
        "id": "JDhtC5CB8K7G",
        "colab_type": "text"
      },
      "source": [
        "**Check what unique values we have in the sms received column**"
      ]
    },
    {
      "cell_type": "code",
      "metadata": {
        "id": "pE9df8r98NC0",
        "colab_type": "code",
        "colab": {
          "base_uri": "https://localhost:8080/",
          "height": 35
        },
        "outputId": "06629c85-e315-48b2-c7af-ae2c6b1f31e9"
      },
      "source": [
        "print(\"Unique Values in `sms received`: {}\".format(train_data.SMS_received.unique()))"
      ],
      "execution_count": 17,
      "outputs": [
        {
          "output_type": "stream",
          "text": [
            "Unique Values in `sms received`: [0 1]\n"
          ],
          "name": "stdout"
        }
      ]
    },
    {
      "cell_type": "markdown",
      "metadata": {
        "id": "F2GCZxS98gRm",
        "colab_type": "text"
      },
      "source": [
        "**The handicap column has multiple values it should be a boolean value. All values != 0 will be changed to 1**\n",
        "\n",
        "**All other columns data look correct. The dataset doesn't seems to contain errors. We will fix possible errors anyway.**\n",
        "\n",
        "**In a real life setting after checking for wrong values we might want to drop or try to correct the wrong values (if there are any). I will drop any row with wrong data for simplicity.**"
      ]
    },
    {
      "cell_type": "markdown",
      "metadata": {
        "id": "QyiZmPkhWsAl",
        "colab_type": "text"
      },
      "source": [
        "**Check how many unique values we have in the neighbourhood column.**"
      ]
    },
    {
      "cell_type": "code",
      "metadata": {
        "id": "-d0-UmyjJIYD",
        "colab_type": "code",
        "colab": {
          "base_uri": "https://localhost:8080/",
          "height": 237
        },
        "outputId": "d416db39-7a2d-46a1-a816-91014e23b782"
      },
      "source": [
        "train_data.Neighbourhood.value_counts()"
      ],
      "execution_count": 18,
      "outputs": [
        {
          "output_type": "execute_result",
          "data": {
            "text/plain": [
              "JARDIM CAMBURI                 4971\n",
              "MARIA ORTIZ                    3656\n",
              "RESISTÊNCIA                    2787\n",
              "JARDIM DA PENHA                2520\n",
              "ITARARÉ                        2226\n",
              "                               ... \n",
              "ILHA DO BOI                      23\n",
              "ILHA DO FRADE                     7\n",
              "AEROPORTO                         6\n",
              "ILHAS OCEÂNICAS DE TRINDADE       2\n",
              "PARQUE INDUSTRIAL                 1\n",
              "Name: Neighbourhood, Length: 81, dtype: int64"
            ]
          },
          "metadata": {
            "tags": []
          },
          "execution_count": 18
        }
      ]
    },
    {
      "cell_type": "markdown",
      "metadata": {
        "id": "Sjodgd33JjbP",
        "colab_type": "text"
      },
      "source": [
        "**There are too many unique values to encode for the neighbourhood column. We are going to drop this column.**"
      ]
    },
    {
      "cell_type": "markdown",
      "metadata": {
        "id": "xJUA8aOeKum0",
        "colab_type": "text"
      },
      "source": [
        "**Check if there are no duplicates appointment ids**"
      ]
    },
    {
      "cell_type": "code",
      "metadata": {
        "id": "ioXRu_d1Kznf",
        "colab_type": "code",
        "colab": {
          "base_uri": "https://localhost:8080/",
          "height": 237
        },
        "outputId": "4c648211-3a8e-4273-8be9-1087c3ddcd80"
      },
      "source": [
        "train_data.AppointmentID.value_counts() "
      ],
      "execution_count": 19,
      "outputs": [
        {
          "output_type": "execute_result",
          "data": {
            "text/plain": [
              "5769215    1\n",
              "5647120    1\n",
              "5669637    1\n",
              "5696264    1\n",
              "5698315    1\n",
              "          ..\n",
              "5668133    1\n",
              "5666084    1\n",
              "5762150    1\n",
              "5656518    1\n",
              "5773315    1\n",
              "Name: AppointmentID, Length: 70736, dtype: int64"
            ]
          },
          "metadata": {
            "tags": []
          },
          "execution_count": 19
        }
      ]
    },
    {
      "cell_type": "markdown",
      "metadata": {
        "id": "iLvy4KRG1O5t",
        "colab_type": "text"
      },
      "source": [
        "**ScheduleDay and AppointmentDay aren't really usefull the way they are, so we are going to separate date and time for both columns.**\n",
        "\n",
        "**Then we are going to extract the day number and the hour**\n",
        "**Appointment hour is always 0 so we are not gonna use that**\n",
        "\n",
        "**Since we have both scheduled and appointment day we can use that to calculate the days difference between the two**\n",
        "\n",
        "**In the end we are going to drop the useless columns**"
      ]
    },
    {
      "cell_type": "markdown",
      "metadata": {
        "id": "4EsDZw6cVonX",
        "colab_type": "text"
      },
      "source": [
        "**Now we process the data.**"
      ]
    },
    {
      "cell_type": "code",
      "metadata": {
        "id": "jnHFGZpWnlQY",
        "colab_type": "code",
        "colab": {}
      },
      "source": [
        "def data_preprocessing(df):\n",
        "  data = df.copy()\n",
        "\n",
        "  # Format columns names, also fixed name errors\n",
        "  data.columns = ['no_show', 'patient_id', 'appointment_id', 'gender', 'ScheduledDay', \n",
        "              'AppointmentDay', 'age', 'neighbourhood', 'scholarship', 'hypertension',\n",
        "              'diabetes', 'alcoholism', 'handicap', 'sms_received']\n",
        "\n",
        "  # patient id from float to int\n",
        "  data['patient_id'] = data['patient_id'].astype('int64')\n",
        "\n",
        "  # Use split to extract date and time from timestamp \n",
        "  data['ScheduledDay_Day'] = data['ScheduledDay'].str.split(pat='T', expand = True)[0]\n",
        "  data['AppointmentDay_Day'] = data['AppointmentDay'].str.split(pat='T', expand = True)[0]\n",
        "  data['AppointmentDay_Time'] = data['AppointmentDay'].str.split(pat='T', expand = True)[1]\n",
        "  data['ScheduledDay_Time'] = data['ScheduledDay'].str.split(pat='T', expand = True)[1]\n",
        "\n",
        "  # Remove Z from the time\n",
        "  data['ScheduledDay_Time'] = data['ScheduledDay_Time'].str.translate({ord('Z'): None})\n",
        "\n",
        "  # Take only the hour from the time \n",
        "  data['scheduled_hour'] = data['ScheduledDay_Time'].apply(lambda x:x[0:2])\n",
        "\n",
        "  # cast to datetime so that we can properly calculate the day difference  \n",
        "  data['ScheduledDay_Day'] = pd.to_datetime(data['ScheduledDay_Day'], infer_datetime_format=True)\n",
        "  data['AppointmentDay_Day'] = pd.to_datetime(data['AppointmentDay_Day'], infer_datetime_format=True)\n",
        "\n",
        "  # We want only the day from the date\n",
        "  data['scheduled_day'] = data['ScheduledDay_Day'].astype(str).apply(lambda x:x[-2:])\n",
        "  data['appointment_day'] = data['AppointmentDay_Day'].astype(str).apply(lambda x:x[-2:])\n",
        "\n",
        "  # We calculate the difference between ScheduleDay and AppointmentDay and take only the day\n",
        "\n",
        "  data['day_difference'] = data['AppointmentDay_Day'] - data['ScheduledDay_Day']\n",
        "  data['day_difference'] = data['day_difference'].apply(lambda x: x.days) \n",
        "  data['day_difference'].astype(int)\n",
        "\n",
        "  # Day difference should always be positive\n",
        "  data = data[(data.day_difference >= 0)]\n",
        "\n",
        "  # Cast to int\n",
        "  data['scheduled_hour'] = data['scheduled_hour'].astype(int)\n",
        "  data['scheduled_day'] = data['scheduled_day'].astype(int)\n",
        "  data['appointment_day'] = data['appointment_day'].astype(int)\n",
        "\n",
        "  # Drop useless columns \n",
        "  data = data.drop(['ScheduledDay','AppointmentDay','ScheduledDay_Day','AppointmentDay_Day','ScheduledDay_Time','appointment_id','AppointmentDay_Time'], axis =1)\n",
        "\n",
        "\n",
        "  # Fix the handicap column\n",
        "  data['handicap'].replace([2,3,4],1, inplace = True)\n",
        "\n",
        "  # Gender only M and F\n",
        "  data = data[(data.gender == 'M') | (data.gender == 'F')]\n",
        "\n",
        "  # Age should only be positive\n",
        "  data = data[(data.age >= 0)]\n",
        "\n",
        "  # Scholarship, hypertension, diabetes, alcoholism, sms received should be 0 or 1\n",
        "  data = data[(data.scholarship == 0) | (data.scholarship == 1)]\n",
        "  data = data[(data.hypertension == 0) | (data.hypertension == 1)]\n",
        "  data = data[(data.diabetes == 0) | (data.diabetes == 1)]\n",
        "  data = data[(data.alcoholism == 0) | (data.alcoholism == 1)]\n",
        "  data = data[(data.sms_received == 0) | (data.sms_received == 1)]\n",
        "\n",
        "  # Drop the neighbourhood column\n",
        "  data = data.drop('neighbourhood', axis =1)\n",
        "\n",
        "  # We also drop na for good measure\n",
        "  data.dropna(inplace = True)\n",
        "\n",
        "  # Encode no_show and gender\n",
        "  # doing the get dummies twice on no_show so that No is 0 and Yes is 1, makes no sense having them inverted\n",
        "  data['no_show'] = pd.get_dummies(data['no_show'])\n",
        "  data['no_show'] = pd.get_dummies(data['no_show'])\n",
        "  data['gender'] = pd.get_dummies(data['gender'])\n",
        "\n",
        "  return data"
      ],
      "execution_count": 20,
      "outputs": []
    },
    {
      "cell_type": "code",
      "metadata": {
        "id": "fbarO9FuWAIC",
        "colab_type": "code",
        "colab": {
          "base_uri": "https://localhost:8080/",
          "height": 424
        },
        "outputId": "d72776b2-89ec-4b4a-cad3-ad5e43094509"
      },
      "source": [
        "test = data_preprocessing(test_data)\n",
        "test"
      ],
      "execution_count": 21,
      "outputs": [
        {
          "output_type": "execute_result",
          "data": {
            "text/html": [
              "<div>\n",
              "<style scoped>\n",
              "    .dataframe tbody tr th:only-of-type {\n",
              "        vertical-align: middle;\n",
              "    }\n",
              "\n",
              "    .dataframe tbody tr th {\n",
              "        vertical-align: top;\n",
              "    }\n",
              "\n",
              "    .dataframe thead th {\n",
              "        text-align: right;\n",
              "    }\n",
              "</style>\n",
              "<table border=\"1\" class=\"dataframe\">\n",
              "  <thead>\n",
              "    <tr style=\"text-align: right;\">\n",
              "      <th></th>\n",
              "      <th>no_show</th>\n",
              "      <th>patient_id</th>\n",
              "      <th>gender</th>\n",
              "      <th>age</th>\n",
              "      <th>scholarship</th>\n",
              "      <th>hypertension</th>\n",
              "      <th>diabetes</th>\n",
              "      <th>alcoholism</th>\n",
              "      <th>handicap</th>\n",
              "      <th>sms_received</th>\n",
              "      <th>scheduled_hour</th>\n",
              "      <th>scheduled_day</th>\n",
              "      <th>appointment_day</th>\n",
              "      <th>day_difference</th>\n",
              "    </tr>\n",
              "  </thead>\n",
              "  <tbody>\n",
              "    <tr>\n",
              "      <th>0</th>\n",
              "      <td>0</td>\n",
              "      <td>97949516941525</td>\n",
              "      <td>1</td>\n",
              "      <td>51</td>\n",
              "      <td>0</td>\n",
              "      <td>0</td>\n",
              "      <td>0</td>\n",
              "      <td>0</td>\n",
              "      <td>0</td>\n",
              "      <td>1</td>\n",
              "      <td>7</td>\n",
              "      <td>8</td>\n",
              "      <td>6</td>\n",
              "      <td>59</td>\n",
              "    </tr>\n",
              "    <tr>\n",
              "      <th>1</th>\n",
              "      <td>0</td>\n",
              "      <td>34222692485517</td>\n",
              "      <td>1</td>\n",
              "      <td>14</td>\n",
              "      <td>0</td>\n",
              "      <td>0</td>\n",
              "      <td>0</td>\n",
              "      <td>0</td>\n",
              "      <td>0</td>\n",
              "      <td>0</td>\n",
              "      <td>8</td>\n",
              "      <td>2</td>\n",
              "      <td>3</td>\n",
              "      <td>1</td>\n",
              "    </tr>\n",
              "    <tr>\n",
              "      <th>2</th>\n",
              "      <td>1</td>\n",
              "      <td>27135281911264</td>\n",
              "      <td>0</td>\n",
              "      <td>6</td>\n",
              "      <td>0</td>\n",
              "      <td>0</td>\n",
              "      <td>0</td>\n",
              "      <td>0</td>\n",
              "      <td>0</td>\n",
              "      <td>0</td>\n",
              "      <td>15</td>\n",
              "      <td>16</td>\n",
              "      <td>18</td>\n",
              "      <td>2</td>\n",
              "    </tr>\n",
              "    <tr>\n",
              "      <th>3</th>\n",
              "      <td>0</td>\n",
              "      <td>24738335753524</td>\n",
              "      <td>0</td>\n",
              "      <td>70</td>\n",
              "      <td>0</td>\n",
              "      <td>1</td>\n",
              "      <td>0</td>\n",
              "      <td>0</td>\n",
              "      <td>0</td>\n",
              "      <td>0</td>\n",
              "      <td>7</td>\n",
              "      <td>6</td>\n",
              "      <td>6</td>\n",
              "      <td>0</td>\n",
              "    </tr>\n",
              "    <tr>\n",
              "      <th>4</th>\n",
              "      <td>0</td>\n",
              "      <td>66114552913766</td>\n",
              "      <td>1</td>\n",
              "      <td>64</td>\n",
              "      <td>1</td>\n",
              "      <td>0</td>\n",
              "      <td>0</td>\n",
              "      <td>1</td>\n",
              "      <td>0</td>\n",
              "      <td>0</td>\n",
              "      <td>8</td>\n",
              "      <td>4</td>\n",
              "      <td>5</td>\n",
              "      <td>1</td>\n",
              "    </tr>\n",
              "    <tr>\n",
              "      <th>...</th>\n",
              "      <td>...</td>\n",
              "      <td>...</td>\n",
              "      <td>...</td>\n",
              "      <td>...</td>\n",
              "      <td>...</td>\n",
              "      <td>...</td>\n",
              "      <td>...</td>\n",
              "      <td>...</td>\n",
              "      <td>...</td>\n",
              "      <td>...</td>\n",
              "      <td>...</td>\n",
              "      <td>...</td>\n",
              "      <td>...</td>\n",
              "      <td>...</td>\n",
              "    </tr>\n",
              "    <tr>\n",
              "      <th>17680</th>\n",
              "      <td>0</td>\n",
              "      <td>598612271147</td>\n",
              "      <td>1</td>\n",
              "      <td>47</td>\n",
              "      <td>0</td>\n",
              "      <td>0</td>\n",
              "      <td>0</td>\n",
              "      <td>0</td>\n",
              "      <td>0</td>\n",
              "      <td>0</td>\n",
              "      <td>13</td>\n",
              "      <td>20</td>\n",
              "      <td>18</td>\n",
              "      <td>28</td>\n",
              "    </tr>\n",
              "    <tr>\n",
              "      <th>17681</th>\n",
              "      <td>1</td>\n",
              "      <td>82591776245924</td>\n",
              "      <td>1</td>\n",
              "      <td>58</td>\n",
              "      <td>0</td>\n",
              "      <td>0</td>\n",
              "      <td>0</td>\n",
              "      <td>0</td>\n",
              "      <td>0</td>\n",
              "      <td>1</td>\n",
              "      <td>7</td>\n",
              "      <td>25</td>\n",
              "      <td>3</td>\n",
              "      <td>8</td>\n",
              "    </tr>\n",
              "    <tr>\n",
              "      <th>17682</th>\n",
              "      <td>0</td>\n",
              "      <td>49974893138197</td>\n",
              "      <td>0</td>\n",
              "      <td>68</td>\n",
              "      <td>0</td>\n",
              "      <td>1</td>\n",
              "      <td>0</td>\n",
              "      <td>0</td>\n",
              "      <td>0</td>\n",
              "      <td>0</td>\n",
              "      <td>8</td>\n",
              "      <td>3</td>\n",
              "      <td>20</td>\n",
              "      <td>78</td>\n",
              "    </tr>\n",
              "    <tr>\n",
              "      <th>17683</th>\n",
              "      <td>0</td>\n",
              "      <td>86581838517</td>\n",
              "      <td>1</td>\n",
              "      <td>59</td>\n",
              "      <td>0</td>\n",
              "      <td>0</td>\n",
              "      <td>0</td>\n",
              "      <td>0</td>\n",
              "      <td>0</td>\n",
              "      <td>0</td>\n",
              "      <td>7</td>\n",
              "      <td>16</td>\n",
              "      <td>16</td>\n",
              "      <td>0</td>\n",
              "    </tr>\n",
              "    <tr>\n",
              "      <th>17684</th>\n",
              "      <td>1</td>\n",
              "      <td>9472874154821</td>\n",
              "      <td>0</td>\n",
              "      <td>13</td>\n",
              "      <td>1</td>\n",
              "      <td>0</td>\n",
              "      <td>0</td>\n",
              "      <td>0</td>\n",
              "      <td>0</td>\n",
              "      <td>1</td>\n",
              "      <td>9</td>\n",
              "      <td>31</td>\n",
              "      <td>6</td>\n",
              "      <td>6</td>\n",
              "    </tr>\n",
              "  </tbody>\n",
              "</table>\n",
              "<p>17685 rows × 14 columns</p>\n",
              "</div>"
            ],
            "text/plain": [
              "       no_show      patient_id  ...  appointment_day  day_difference\n",
              "0            0  97949516941525  ...                6              59\n",
              "1            0  34222692485517  ...                3               1\n",
              "2            1  27135281911264  ...               18               2\n",
              "3            0  24738335753524  ...                6               0\n",
              "4            0  66114552913766  ...                5               1\n",
              "...        ...             ...  ...              ...             ...\n",
              "17680        0    598612271147  ...               18              28\n",
              "17681        1  82591776245924  ...                3               8\n",
              "17682        0  49974893138197  ...               20              78\n",
              "17683        0     86581838517  ...               16               0\n",
              "17684        1   9472874154821  ...                6               6\n",
              "\n",
              "[17685 rows x 14 columns]"
            ]
          },
          "metadata": {
            "tags": []
          },
          "execution_count": 21
        }
      ]
    },
    {
      "cell_type": "code",
      "metadata": {
        "id": "vd1qcoYtXwJ6",
        "colab_type": "code",
        "colab": {
          "base_uri": "https://localhost:8080/",
          "height": 424
        },
        "outputId": "32387e1d-8fbc-49d7-8351-bc6f43dcba2c"
      },
      "source": [
        "train = data_preprocessing(train_data)\n",
        "train"
      ],
      "execution_count": 22,
      "outputs": [
        {
          "output_type": "execute_result",
          "data": {
            "text/html": [
              "<div>\n",
              "<style scoped>\n",
              "    .dataframe tbody tr th:only-of-type {\n",
              "        vertical-align: middle;\n",
              "    }\n",
              "\n",
              "    .dataframe tbody tr th {\n",
              "        vertical-align: top;\n",
              "    }\n",
              "\n",
              "    .dataframe thead th {\n",
              "        text-align: right;\n",
              "    }\n",
              "</style>\n",
              "<table border=\"1\" class=\"dataframe\">\n",
              "  <thead>\n",
              "    <tr style=\"text-align: right;\">\n",
              "      <th></th>\n",
              "      <th>no_show</th>\n",
              "      <th>patient_id</th>\n",
              "      <th>gender</th>\n",
              "      <th>age</th>\n",
              "      <th>scholarship</th>\n",
              "      <th>hypertension</th>\n",
              "      <th>diabetes</th>\n",
              "      <th>alcoholism</th>\n",
              "      <th>handicap</th>\n",
              "      <th>sms_received</th>\n",
              "      <th>scheduled_hour</th>\n",
              "      <th>scheduled_day</th>\n",
              "      <th>appointment_day</th>\n",
              "      <th>day_difference</th>\n",
              "    </tr>\n",
              "  </thead>\n",
              "  <tbody>\n",
              "    <tr>\n",
              "      <th>0</th>\n",
              "      <td>0</td>\n",
              "      <td>274949884551375</td>\n",
              "      <td>1</td>\n",
              "      <td>83</td>\n",
              "      <td>0</td>\n",
              "      <td>1</td>\n",
              "      <td>1</td>\n",
              "      <td>0</td>\n",
              "      <td>0</td>\n",
              "      <td>0</td>\n",
              "      <td>13</td>\n",
              "      <td>9</td>\n",
              "      <td>10</td>\n",
              "      <td>1</td>\n",
              "    </tr>\n",
              "    <tr>\n",
              "      <th>1</th>\n",
              "      <td>0</td>\n",
              "      <td>755857761596521</td>\n",
              "      <td>1</td>\n",
              "      <td>21</td>\n",
              "      <td>0</td>\n",
              "      <td>0</td>\n",
              "      <td>0</td>\n",
              "      <td>0</td>\n",
              "      <td>0</td>\n",
              "      <td>0</td>\n",
              "      <td>15</td>\n",
              "      <td>6</td>\n",
              "      <td>9</td>\n",
              "      <td>3</td>\n",
              "    </tr>\n",
              "    <tr>\n",
              "      <th>2</th>\n",
              "      <td>0</td>\n",
              "      <td>45781728821227</td>\n",
              "      <td>1</td>\n",
              "      <td>10</td>\n",
              "      <td>0</td>\n",
              "      <td>0</td>\n",
              "      <td>0</td>\n",
              "      <td>0</td>\n",
              "      <td>0</td>\n",
              "      <td>1</td>\n",
              "      <td>10</td>\n",
              "      <td>5</td>\n",
              "      <td>11</td>\n",
              "      <td>6</td>\n",
              "    </tr>\n",
              "    <tr>\n",
              "      <th>3</th>\n",
              "      <td>1</td>\n",
              "      <td>4176778783932</td>\n",
              "      <td>1</td>\n",
              "      <td>60</td>\n",
              "      <td>0</td>\n",
              "      <td>1</td>\n",
              "      <td>1</td>\n",
              "      <td>0</td>\n",
              "      <td>0</td>\n",
              "      <td>0</td>\n",
              "      <td>18</td>\n",
              "      <td>10</td>\n",
              "      <td>20</td>\n",
              "      <td>10</td>\n",
              "    </tr>\n",
              "    <tr>\n",
              "      <th>4</th>\n",
              "      <td>0</td>\n",
              "      <td>26436947247</td>\n",
              "      <td>1</td>\n",
              "      <td>24</td>\n",
              "      <td>0</td>\n",
              "      <td>0</td>\n",
              "      <td>0</td>\n",
              "      <td>0</td>\n",
              "      <td>0</td>\n",
              "      <td>1</td>\n",
              "      <td>7</td>\n",
              "      <td>5</td>\n",
              "      <td>12</td>\n",
              "      <td>7</td>\n",
              "    </tr>\n",
              "    <tr>\n",
              "      <th>...</th>\n",
              "      <td>...</td>\n",
              "      <td>...</td>\n",
              "      <td>...</td>\n",
              "      <td>...</td>\n",
              "      <td>...</td>\n",
              "      <td>...</td>\n",
              "      <td>...</td>\n",
              "      <td>...</td>\n",
              "      <td>...</td>\n",
              "      <td>...</td>\n",
              "      <td>...</td>\n",
              "      <td>...</td>\n",
              "      <td>...</td>\n",
              "      <td>...</td>\n",
              "    </tr>\n",
              "    <tr>\n",
              "      <th>70731</th>\n",
              "      <td>0</td>\n",
              "      <td>693196624319388</td>\n",
              "      <td>1</td>\n",
              "      <td>25</td>\n",
              "      <td>1</td>\n",
              "      <td>0</td>\n",
              "      <td>0</td>\n",
              "      <td>0</td>\n",
              "      <td>0</td>\n",
              "      <td>1</td>\n",
              "      <td>15</td>\n",
              "      <td>30</td>\n",
              "      <td>2</td>\n",
              "      <td>3</td>\n",
              "    </tr>\n",
              "    <tr>\n",
              "      <th>70732</th>\n",
              "      <td>0</td>\n",
              "      <td>38814812952546</td>\n",
              "      <td>0</td>\n",
              "      <td>57</td>\n",
              "      <td>0</td>\n",
              "      <td>0</td>\n",
              "      <td>0</td>\n",
              "      <td>0</td>\n",
              "      <td>0</td>\n",
              "      <td>0</td>\n",
              "      <td>10</td>\n",
              "      <td>18</td>\n",
              "      <td>13</td>\n",
              "      <td>25</td>\n",
              "    </tr>\n",
              "    <tr>\n",
              "      <th>70733</th>\n",
              "      <td>1</td>\n",
              "      <td>65448689531</td>\n",
              "      <td>0</td>\n",
              "      <td>62</td>\n",
              "      <td>0</td>\n",
              "      <td>1</td>\n",
              "      <td>0</td>\n",
              "      <td>0</td>\n",
              "      <td>0</td>\n",
              "      <td>0</td>\n",
              "      <td>19</td>\n",
              "      <td>28</td>\n",
              "      <td>29</td>\n",
              "      <td>1</td>\n",
              "    </tr>\n",
              "    <tr>\n",
              "      <th>70734</th>\n",
              "      <td>0</td>\n",
              "      <td>9461465919</td>\n",
              "      <td>0</td>\n",
              "      <td>26</td>\n",
              "      <td>0</td>\n",
              "      <td>0</td>\n",
              "      <td>0</td>\n",
              "      <td>0</td>\n",
              "      <td>0</td>\n",
              "      <td>0</td>\n",
              "      <td>10</td>\n",
              "      <td>11</td>\n",
              "      <td>11</td>\n",
              "      <td>0</td>\n",
              "    </tr>\n",
              "    <tr>\n",
              "      <th>70735</th>\n",
              "      <td>1</td>\n",
              "      <td>548293677667678</td>\n",
              "      <td>1</td>\n",
              "      <td>64</td>\n",
              "      <td>0</td>\n",
              "      <td>0</td>\n",
              "      <td>1</td>\n",
              "      <td>0</td>\n",
              "      <td>0</td>\n",
              "      <td>0</td>\n",
              "      <td>7</td>\n",
              "      <td>2</td>\n",
              "      <td>13</td>\n",
              "      <td>11</td>\n",
              "    </tr>\n",
              "  </tbody>\n",
              "</table>\n",
              "<p>70733 rows × 14 columns</p>\n",
              "</div>"
            ],
            "text/plain": [
              "       no_show       patient_id  ...  appointment_day  day_difference\n",
              "0            0  274949884551375  ...               10               1\n",
              "1            0  755857761596521  ...                9               3\n",
              "2            0   45781728821227  ...               11               6\n",
              "3            1    4176778783932  ...               20              10\n",
              "4            0      26436947247  ...               12               7\n",
              "...        ...              ...  ...              ...             ...\n",
              "70731        0  693196624319388  ...                2               3\n",
              "70732        0   38814812952546  ...               13              25\n",
              "70733        1      65448689531  ...               29               1\n",
              "70734        0       9461465919  ...               11               0\n",
              "70735        1  548293677667678  ...               13              11\n",
              "\n",
              "[70733 rows x 14 columns]"
            ]
          },
          "metadata": {
            "tags": []
          },
          "execution_count": 22
        }
      ]
    },
    {
      "cell_type": "markdown",
      "metadata": {
        "id": "vXmn-ernk5kS",
        "colab_type": "text"
      },
      "source": [
        "**Split X and y**"
      ]
    },
    {
      "cell_type": "code",
      "metadata": {
        "id": "5scSMmwUk48V",
        "colab_type": "code",
        "colab": {}
      },
      "source": [
        "X_test, y_test = test.drop(['no_show'],axis=1), test['no_show'] \n",
        "X_train, y_train = train.drop(['no_show'],axis=1), train['no_show'] \n"
      ],
      "execution_count": 23,
      "outputs": []
    },
    {
      "cell_type": "markdown",
      "metadata": {
        "id": "3tczy_IIZopd",
        "colab_type": "text"
      },
      "source": [
        "**Evaluate the models**"
      ]
    },
    {
      "cell_type": "code",
      "metadata": {
        "id": "-piRYdMXrdiT",
        "colab_type": "code",
        "colab": {
          "base_uri": "https://localhost:8080/",
          "height": 384
        },
        "outputId": "e7afd883-e74f-4d32-d727-6de949005b01"
      },
      "source": [
        "X_train.info()"
      ],
      "execution_count": 24,
      "outputs": [
        {
          "output_type": "stream",
          "text": [
            "<class 'pandas.core.frame.DataFrame'>\n",
            "Int64Index: 70733 entries, 0 to 70735\n",
            "Data columns (total 13 columns):\n",
            " #   Column           Non-Null Count  Dtype\n",
            "---  ------           --------------  -----\n",
            " 0   patient_id       70733 non-null  int64\n",
            " 1   gender           70733 non-null  uint8\n",
            " 2   age              70733 non-null  int64\n",
            " 3   scholarship      70733 non-null  int64\n",
            " 4   hypertension     70733 non-null  int64\n",
            " 5   diabetes         70733 non-null  int64\n",
            " 6   alcoholism       70733 non-null  int64\n",
            " 7   handicap         70733 non-null  int64\n",
            " 8   sms_received     70733 non-null  int64\n",
            " 9   scheduled_hour   70733 non-null  int64\n",
            " 10  scheduled_day    70733 non-null  int64\n",
            " 11  appointment_day  70733 non-null  int64\n",
            " 12  day_difference   70733 non-null  int64\n",
            "dtypes: int64(12), uint8(1)\n",
            "memory usage: 7.1 MB\n"
          ],
          "name": "stdout"
        }
      ]
    },
    {
      "cell_type": "code",
      "metadata": {
        "id": "Dwprmfej9r6U",
        "colab_type": "code",
        "colab": {}
      },
      "source": [
        "models = [\n",
        "    LogisticRegression(random_state=3),\n",
        "    DecisionTreeClassifier(random_state=3),\n",
        "    KNeighborsClassifier(n_neighbors=31),\n",
        "]\n",
        "\n",
        "models_names = [\n",
        "    \"LogisticRegression\",\n",
        "    \"DecisionTree\",\n",
        "    \"KNeighborsClassifier\",\n",
        "]\n",
        "\n",
        "cv = StratifiedKFold(n_splits=10)\n",
        "\n",
        "scoring = \"accuracy\"\n",
        "\n",
        "cv_results = [\n",
        "    cross_val_score(model, X_train, y_train, scoring=scoring, cv=cv).mean()\n",
        "    for model in models\n",
        "]\n",
        "\n",
        "cv_res = pd.DataFrame({\n",
        "    \"Score\": cv_results,\n",
        "    \"Model\": models_names\n",
        "})"
      ],
      "execution_count": 40,
      "outputs": []
    },
    {
      "cell_type": "code",
      "metadata": {
        "id": "GRXdaE1E-HBv",
        "colab_type": "code",
        "colab": {
          "base_uri": "https://localhost:8080/",
          "height": 368
        },
        "outputId": "f31a02a0-672c-4391-c64d-13a41094d89e"
      },
      "source": [
        "plt.figure()\n",
        "g = sns.barplot(\"Score\", \"Model\", data=cv_res, palette=\"Set2\", orient = \"h\")\n",
        "g.set_xlabel(\"Accuracy\")\n",
        "g = g.set_title(\"Scores\")\n",
        "plt.show()\n",
        "print(cv_res)"
      ],
      "execution_count": 39,
      "outputs": [
        {
          "output_type": "display_data",
          "data": {
            "image/png": "[encoded data removed]",
            "text/plain": [
              "<Figure size 432x288 with 1 Axes>"
            ]
          },
          "metadata": {
            "tags": [],
            "needs_background": "light"
          }
        },
        {
          "output_type": "stream",
          "text": [
            "      Score                 Model\n",
            "0  0.797831    LogisticRegression\n",
            "1  0.715536          DecisionTree\n",
            "2  0.793024  KNeighborsClassifier\n"
          ],
          "name": "stdout"
        }
      ]
    },
    {
      "cell_type": "markdown",
      "metadata": {
        "id": "4khOoO7iDTT-",
        "colab_type": "text"
      },
      "source": [
        "**Look like the Logistic Regression is the most promising, we'll try to optimize it's parameters and see if we can make it better.**\n",
        "\n",
        "**I have commented the search since it takes some time, below are my best results.**\n",
        "\n",
        "** Uncomment for testing.**"
      ]
    },
    {
      "cell_type": "code",
      "metadata": {
        "id": "EWL1I0I_Dokz",
        "colab_type": "code",
        "colab": {}
      },
      "source": [
        "model = LogisticRegression(random_state=3)\n",
        "cv = StratifiedKFold(n_splits=10)\n",
        "\n",
        "scoring = \"accuracy\"\n",
        "param_grid = {\n",
        "    \"C\" : [0.001, 0.01, 0.1, 1.0, 10, 100],\n",
        "    \"tol\" : [1e-6, 1e-5, 1e-4, 1e-3, 1e-2, 1e-1],\n",
        "    \"max_iter\" : [200, 500, 1000, 5000],\n",
        "    \"solver\" : [\"lbfgs\", \"sag\", \"saga\"],\n",
        "    \"penalty\" : [\"l2\"]\n",
        "}\n",
        "\n",
        "'''\n",
        "gs = GridSearchCV(model, param_grid=param_grid, cv=cv, scoring=scoring)\n",
        "gs = gs.fit(X_train, y_train)\n",
        "'''"
      ],
      "execution_count": 43,
      "outputs": []
    },
    {
      "cell_type": "code",
      "metadata": {
        "id": "vtPfYOGnFZC_",
        "colab_type": "code",
        "colab": {}
      },
      "source": [
        "bestLR = gs.best_estimator_"
      ],
      "execution_count": 44,
      "outputs": []
    },
    {
      "cell_type": "code",
      "metadata": {
        "id": "ZouBwsLjFdY5",
        "colab_type": "code",
        "colab": {
          "base_uri": "https://localhost:8080/",
          "height": 35
        },
        "outputId": "1a8158c8-67a6-4b0a-f8ca-349288419562"
      },
      "source": [
        "gs.best_score_"
      ],
      "execution_count": 45,
      "outputs": [
        {
          "output_type": "execute_result",
          "data": {
            "text/plain": [
              "0.7978312801659946"
            ]
          },
          "metadata": {
            "tags": []
          },
          "execution_count": 45
        }
      ]
    },
    {
      "cell_type": "code",
      "metadata": {
        "id": "QWD_sq7ZFkmt",
        "colab_type": "code",
        "colab": {
          "base_uri": "https://localhost:8080/",
          "height": 109
        },
        "outputId": "673e6817-5eac-47c8-8371-15d036b73a81"
      },
      "source": [
        "bestLR"
      ],
      "execution_count": 46,
      "outputs": [
        {
          "output_type": "execute_result",
          "data": {
            "text/plain": [
              "LogisticRegression(C=0.001, class_weight=None, dual=False, fit_intercept=True,\n",
              "                   intercept_scaling=1, l1_ratio=None, max_iter=200,\n",
              "                   multi_class='auto', n_jobs=None, penalty='l2',\n",
              "                   random_state=3, solver='lbfgs', tol=1e-06, verbose=0,\n",
              "                   warm_start=False)"
            ]
          },
          "metadata": {
            "tags": []
          },
          "execution_count": 46
        }
      ]
    },
    {
      "cell_type": "markdown",
      "metadata": {
        "id": "0hapY5ZvK0hg",
        "colab_type": "text"
      },
      "source": [
        "**Best Logistic Regressor settings found are:**\n",
        "\n",
        "**LogisticRegression(C=0.001, class_weight=None, dual=False, fit_intercept=True,\n",
        "                   intercept_scaling=1, l1_ratio=None, max_iter=200,\n",
        "                   multi_class='auto', n_jobs=None, penalty='l2',\n",
        "                   random_state=3, solver='lbfgs', tol=1e-06, verbose=0,\n",
        "                   warm_start=False)**\n",
        "\n",
        "**With a score of 0.7978312801659946**"
      ]
    },
    {
      "cell_type": "markdown",
      "metadata": {
        "id": "2i5RIkeAN7I5",
        "colab_type": "text"
      },
      "source": [
        "**Model Testing**\n",
        "\n",
        "**We use the best Logistic Regression**"
      ]
    },
    {
      "cell_type": "code",
      "metadata": {
        "id": "q5LdbTjYN-df",
        "colab_type": "code",
        "colab": {
          "base_uri": "https://localhost:8080/",
          "height": 35
        },
        "outputId": "5a6ef872-8ec8-43aa-aeb5-a0ea0513aa91"
      },
      "source": [
        "cv = StratifiedKFold(n_splits=10)\n",
        "scoring = \"accuracy\"\n",
        "\n",
        "model = LogisticRegression(C=0.001, class_weight=None, dual=False, fit_intercept=True,\n",
        "                   intercept_scaling=1, l1_ratio=None, max_iter=200,\n",
        "                   multi_class='auto', n_jobs=None, penalty='l2',\n",
        "                   random_state=3, solver='lbfgs', tol=1e-06, verbose=0,\n",
        "                   warm_start=False)\n",
        "\n",
        "scores = cross_val_score(model, X_train, y_train, cv=cv, scoring=\"accuracy\")\n",
        "scores.mean()"
      ],
      "execution_count": 55,
      "outputs": [
        {
          "output_type": "execute_result",
          "data": {
            "text/plain": [
              "0.7978312801659946"
            ]
          },
          "metadata": {
            "tags": []
          },
          "execution_count": 55
        }
      ]
    },
    {
      "cell_type": "markdown",
      "metadata": {
        "id": "MpSzckQTPbaD",
        "colab_type": "text"
      },
      "source": [
        "**Fit**"
      ]
    },
    {
      "cell_type": "code",
      "metadata": {
        "id": "vblDYjiyOqmE",
        "colab_type": "code",
        "colab": {}
      },
      "source": [
        "model = model.fit(X_train, y_train)"
      ],
      "execution_count": 58,
      "outputs": []
    },
    {
      "cell_type": "markdown",
      "metadata": {
        "id": "fsYH5iG2Pfxj",
        "colab_type": "text"
      },
      "source": [
        "**Test**"
      ]
    },
    {
      "cell_type": "code",
      "metadata": {
        "id": "7ZXNi-bGPKk-",
        "colab_type": "code",
        "colab": {
          "base_uri": "https://localhost:8080/",
          "height": 35
        },
        "outputId": "b4202b43-641a-460c-b3a2-71992b75d807"
      },
      "source": [
        "y_pred = model.predict(X_test)\n",
        "score = accuracy_score(y_test, y_pred)\n",
        "score\n",
        "\n"
      ],
      "execution_count": 59,
      "outputs": [
        {
          "output_type": "execute_result",
          "data": {
            "text/plain": [
              "0.7976251060220526"
            ]
          },
          "metadata": {
            "tags": []
          },
          "execution_count": 59
        }
      ]
    }
  ]
}